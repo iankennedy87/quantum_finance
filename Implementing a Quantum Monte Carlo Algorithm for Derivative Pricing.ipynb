{
 "cells": [
  {
   "cell_type": "markdown",
   "metadata": {},
   "source": [
    "# Implementing a Quantum Algorithm for Monte Carlo Simulations"
   ]
  },
  {
   "cell_type": "markdown",
   "metadata": {},
   "source": [
    "In this notebook, we attempt to implement parts of the quantum algorithm for Monte Carlo simulations described in \"Quantum Computational finance: Monte Carlo pricing of financial derivatives\" by Rebentrost, Gupt, and Bromley (2018). We will make reference to the original paper frequently, and the user is encouraged to refer back to it for background and a more theoretical treatment. We were not able to implement the algorithm in full, but we hope the efforts here provide a foundation for future work. "
   ]
  },
  {
   "cell_type": "code",
   "execution_count": 1,
   "metadata": {
    "collapsed": false
   },
   "outputs": [],
   "source": [
    "from pyquil.quil import Program\n",
    "from pyquil.api import QVMConnection, WavefunctionSimulator\n",
    "from pyquil.gates import *\n",
    "from pyquil.quil import address_qubits, DefGate\n",
    "from pyquil.quilatom import QubitPlaceholder\n",
    "from pyquil.unitary_tools import program_unitary\n",
    "\n",
    "from grove.alpha.arbitrary_state import arbitrary_state, unitary_operator\n",
    "from grove.alpha.phaseestimation.phase_estimation import phase_estimation\n",
    "\n",
    "import math\n",
    "import numpy as np\n",
    "from scipy.stats import norm\n",
    "from typing import List"
   ]
  },
  {
   "cell_type": "code",
   "execution_count": 2,
   "metadata": {
    "collapsed": true
   },
   "outputs": [],
   "source": [
    "qvm = QVMConnection()"
   ]
  },
  {
   "cell_type": "markdown",
   "metadata": {},
   "source": [
    "## Arithmetic Operations"
   ]
  },
  {
   "cell_type": "markdown",
   "metadata": {},
   "source": [
    "An important component of the algorithm described in the paper is the use of arithmetic circuits to calculate the payoff of a financial derivative (see Appendix C). Specifically, for a European call option, circuits performing the following are required: addition, addition modulo N, multiplication modulo N, exponentiation modulo N, and max, all of which can be implemented as reversible quantum circuits. Implementing all of these circuits in PyQuil is beyond the scope of this project. Instead, we only implement the addition circuit as a proof of concept and leave implementation of the rest for a future project. "
   ]
  },
  {
   "cell_type": "markdown",
   "metadata": {},
   "source": [
    "To implement the adder, we followed the implementation of the plain adder described on page 3 \"Quantum Networks for Elementary Arithmetic Operations\" by Vedral, Barenco, and Ekert. All references to figures in this section refer to that paper. "
   ]
  },
  {
   "cell_type": "markdown",
   "metadata": {},
   "source": [
    "### Carry and Sum"
   ]
  },
  {
   "cell_type": "markdown",
   "metadata": {},
   "source": [
    "Implementing the plain adder first required implementing the SUM and CARRY gates pictured in Figure 3. A reversed CARRY gate is also implemented. All three functions accept a list of qubit indices and return a program that the performs the operation. "
   ]
  },
  {
   "cell_type": "code",
   "execution_count": 3,
   "metadata": {
    "collapsed": false
   },
   "outputs": [],
   "source": [
    "def quantum_carry_index(q: List[int]) -> Program:\n",
    "    p = Program()\n",
    "    p += CCNOT(q[1], q[2], q[3])\n",
    "    p += CNOT(q[1], q[2])\n",
    "    p += CCNOT(q[0], q[2], q[3])\n",
    "    return p\n",
    "\n",
    "def reverse_carry_index(q: List[int]) -> Program:\n",
    "    p = Program()\n",
    "    p += CCNOT(q[0], q[2], q[3])\n",
    "    p += CNOT(q[1], q[2])\n",
    "    p += CCNOT(q[1], q[2], q[3])\n",
    "    return p\n",
    "\n",
    "def quantum_sum_index(q: List[int]) -> Program:\n",
    "    p = Program()\n",
    "    p += CNOT(q[1], q[2])\n",
    "    p += CNOT(q[0], q[2])\n",
    "    return p"
   ]
  },
  {
   "cell_type": "markdown",
   "metadata": {},
   "source": [
    "### Plain Adder"
   ]
  },
  {
   "cell_type": "markdown",
   "metadata": {},
   "source": [
    "Using the SUM and CARRY gates, we implement the plain adder ADD circuit, which performs the map $|a,b\\rangle \\rightarrow |a,a+b\\rangle$. The adder accepts a program that has prepared a state in the proper encoding for the addition operation, which requires $3n + 1$ qubits, where $n$ is the number of bits needed to represent the numbers. This requires $0 \\leq a, b \\leq 2^n$. The first $n$ qubits represent $a$, the next $n+1$ qubits represent $b$ with an additional qubit for a carry bit, and the final $n$ qubits are used for the carry register. The implementation follows the circuit diagram in Figure 2."
   ]
  },
  {
   "cell_type": "code",
   "execution_count": 4,
   "metadata": {
    "collapsed": true
   },
   "outputs": [],
   "source": [
    "def quantum_adder_from_state(p: Program, n: int):\n",
    "    \n",
    "    a_qubits = [i for i in range(n)]\n",
    "    b_qubits = [i + n for i in range(n+1)]\n",
    "    c_qubits = [i + 2*n + 2 for i in range(n)]\n",
    "        \n",
    "    for i in range(n):\n",
    "        if i == n-1: \n",
    "            p += quantum_carry_index([c_qubits[i], a_qubits[i], b_qubits[i], b_qubits[i+1]])\n",
    "        else:\n",
    "            p += quantum_carry_index([c_qubits[i], a_qubits[i], b_qubits[i], c_qubits[i+1]])\n",
    "    \n",
    "    p += CNOT(a_qubits[n-1], b_qubits[n-1])\n",
    "    p += quantum_sum_index([c_qubits[n-1], a_qubits[n-1], b_qubits[n-1]])\n",
    "    \n",
    "    for i in reversed(range(n-1)):\n",
    "        p += reverse_carry_index([c_qubits[i], a_qubits[i], b_qubits[i], c_qubits[i+1]])\n",
    "        p += quantum_sum_index([c_qubits[i], a_qubits[i], b_qubits[i]])\n",
    "    \n",
    "    return p"
   ]
  },
  {
   "cell_type": "markdown",
   "metadata": {},
   "source": [
    "To prepare the states, we implement several helper functions. First, int_to_state maps an integer to a quantum state."
   ]
  },
  {
   "cell_type": "code",
   "execution_count": 5,
   "metadata": {
    "collapsed": false
   },
   "outputs": [],
   "source": [
    "# maps int to binary in quantum state. Takes as input a list of qubit placeholders.\n",
    "# First qubit in the list will be the 0th qubit of the binary representation, so qubits should be sequential.\n",
    "\n",
    "def int_to_state(a: int, q: List[QubitPlaceholder]) -> Program:\n",
    "    p = Program()\n",
    "    binary = format(a, \"b\")\n",
    "    emptybits = len(q) - len(binary)\n",
    "    binary = '0'*emptybits + binary\n",
    "    for j, bit in enumerate(reversed(binary)):\n",
    "        if bit =='1':\n",
    "            p += X(q[j])\n",
    "        else: \n",
    "            p += I(q[j])\n",
    "    return p"
   ]
  },
  {
   "cell_type": "markdown",
   "metadata": {},
   "source": [
    "We demonstrate by mapping the integer 3 to a 2 qubit state."
   ]
  },
  {
   "cell_type": "code",
   "execution_count": 6,
   "metadata": {
    "collapsed": false
   },
   "outputs": [
    {
     "name": "stdout",
     "output_type": "stream",
     "text": [
      "(1+0j)|11>\n"
     ]
    }
   ],
   "source": [
    "n = 2\n",
    "a = 3\n",
    "qubits = QubitPlaceholder.register(n)\n",
    "pq = int_to_state(a, qubits)\n",
    "pq = address_qubits(pq)\n",
    "print(qvm.wavefunction(pq))"
   ]
  },
  {
   "cell_type": "markdown",
   "metadata": {},
   "source": [
    "Next, we implement append_integer_to_state, which returns a program to append an additional $n$-bit integer to an $n$-qubit quantum state."
   ]
  },
  {
   "cell_type": "code",
   "execution_count": 7,
   "metadata": {
    "collapsed": true
   },
   "outputs": [],
   "source": [
    "#b is integer to be appended, n is number of bits required for input number\n",
    "#returns a program that appends binary representation of integer to an n-qubit quantum state\n",
    "\n",
    "def append_number_to_state(b: int, n: int) -> Program:\n",
    "    assert b < 2**n, \"a uses too many bits\"\n",
    "    \n",
    "    p = Program()\n",
    "    state_b = QubitPlaceholder.register(n)\n",
    "    p += int_to_state(b, state_b)\n",
    "    p = address_qubits(p, {q: i + n for i, q in enumerate(state_b)})\n",
    "    \n",
    "    #print(qvm.wavefunction(p))    \n",
    "    return p"
   ]
  },
  {
   "cell_type": "markdown",
   "metadata": {},
   "source": [
    "We demonstrate by appending 1 to the state created above."
   ]
  },
  {
   "cell_type": "code",
   "execution_count": 8,
   "metadata": {
    "collapsed": false
   },
   "outputs": [
    {
     "name": "stdout",
     "output_type": "stream",
     "text": [
      "(1+0j)|0111>\n"
     ]
    }
   ],
   "source": [
    "b = 1\n",
    "pq += append_number_to_state(b, n)\n",
    "print(qvm.wavefunction(pq))"
   ]
  },
  {
   "cell_type": "markdown",
   "metadata": {},
   "source": [
    "Finally, pad_with_zeros adds the carry qubit for integer $b$, the $2$-qubit carry register, and an ancilla qubit to be used later, all initialized to $|0\\rangle$."
   ]
  },
  {
   "cell_type": "code",
   "execution_count": 9,
   "metadata": {
    "collapsed": true
   },
   "outputs": [],
   "source": [
    "#pad n-qubit addition state with n + 1 additional qubits initialized to 0\n",
    "def pad_with_zeros(n: int):\n",
    "    carry = QubitPlaceholder.register(n+2) #add additional qubit for ancilla\n",
    "    p = int_to_state(0, carry)\n",
    "    p = address_qubits(p, {q: i + 2*n for i, q in enumerate(carry)})\n",
    "    return p"
   ]
  },
  {
   "cell_type": "code",
   "execution_count": 10,
   "metadata": {
    "collapsed": false
   },
   "outputs": [
    {
     "name": "stdout",
     "output_type": "stream",
     "text": [
      "(1+0j)|00000111>\n"
     ]
    }
   ],
   "source": [
    "pq += pad_with_zeros(n)\n",
    "print(qvm.wavefunction(pq))"
   ]
  },
  {
   "cell_type": "markdown",
   "metadata": {},
   "source": [
    "The state is now ready for the adder. Calling the adder on the program, we see that $1+3=4$ is now represented in binary in the target register."
   ]
  },
  {
   "cell_type": "code",
   "execution_count": 11,
   "metadata": {
    "collapsed": false
   },
   "outputs": [
    {
     "name": "stdout",
     "output_type": "stream",
     "text": [
      "(1+0j)|00010011>\n"
     ]
    }
   ],
   "source": [
    "pq = quantum_adder_from_state(pq, n)\n",
    "print(qvm.wavefunction(pq))"
   ]
  },
  {
   "cell_type": "markdown",
   "metadata": {},
   "source": [
    "## Quantum Algorithm for European Option Pricing"
   ]
  },
  {
   "cell_type": "markdown",
   "metadata": {},
   "source": [
    "From here on out, we implement parts of the quantum algorithm for European option pricing described in Rebentrost. All reference to equations numbers refer back to that paper. In particular, we refer frequently back to sections IV and V. "
   ]
  },
  {
   "cell_type": "markdown",
   "metadata": {},
   "source": [
    "### Preparation of quantum state encoding sampling distribution"
   ]
  },
  {
   "cell_type": "markdown",
   "metadata": {},
   "source": [
    "The first step is to create the probability distribution from which we are sampling. In this case, it's the normal distribution. This will be used to represent the random variable for Brownian motion. To do this, we can use the create_arbitrary_state function from Grove and the procedure described in section V. \n",
    "\n",
    "For this example, for simplicity we'll only consider two qubits."
   ]
  },
  {
   "cell_type": "code",
   "execution_count": 12,
   "metadata": {
    "collapsed": true
   },
   "outputs": [],
   "source": [
    "n = 2 #number of qubits needed to represent values\n",
    "\n",
    "#qubit indices for registers\n",
    "j_reg = [i for i in range(n)]\n",
    "control_reg = [i+n for i in range(n+1)]\n",
    "ancilla = 2*n + 1\n",
    "carry_reg = [i + 2*n + 2 for i in range(n)]"
   ]
  },
  {
   "cell_type": "code",
   "execution_count": 13,
   "metadata": {
    "collapsed": false
   },
   "outputs": [],
   "source": [
    "#optional qubits parameters specifies qubits on which to create probability distribution.\n",
    "\n",
    "def create_prob_dist(n: int, t: int, xmax: int, qubits: List[int] = None) -> Program:\n",
    "    #number of qubits to represent 2^n numbers\n",
    "    t = 4 #period of holding option\n",
    "    xmax = 4\n",
    "    dx = 2*xmax/(2**n - 1)\n",
    "    xj = [(-xmax + j*dx) for j in range(2**n)] #discretization points\n",
    "    pt = [norm.pdf(x, scale = np.sqrt(t)) for x in xj]\n",
    "    C = sum(pt)\n",
    "    pt = pt/C #normalize probabilities \n",
    "    p = arbitrary_state.create_arbitrary_state(pt, qubits)\n",
    "\n",
    "    return p"
   ]
  },
  {
   "cell_type": "markdown",
   "metadata": {},
   "source": [
    "Let's look at a 2-qubit probability distribution:"
   ]
  },
  {
   "cell_type": "code",
   "execution_count": 14,
   "metadata": {
    "collapsed": false
   },
   "outputs": [
    {
     "name": "stdout",
     "output_type": "stream",
     "text": [
      "(0.1178392437+0j)|00> + (0.6972186979+0j)|01> + (0.6972186979+0j)|10> + (0.1178392437+0j)|11>\n"
     ]
    }
   ],
   "source": [
    "t = 4\n",
    "xmax = 4\n",
    "p = create_prob_dist(n, t, xmax)\n",
    "print(qvm.wavefunction(p))"
   ]
  },
  {
   "cell_type": "markdown",
   "metadata": {},
   "source": [
    "The state is now: $$\\mathcal{G}|0^n\\rangle = \\sum_{j=0}^{2^{n-1}}\\sqrt{p_j}|j\\rangle$$"
   ]
  },
  {
   "cell_type": "markdown",
   "metadata": {},
   "source": [
    "We also need the unitary matrix that creates this state for later calculations. We can retrieve the unitary "
   ]
  },
  {
   "cell_type": "markdown",
   "metadata": {},
   "source": [
    "Since the adder function that we'll use later requires on $l + 1$ carry qubits, $l$ qubits for the input number, and 1 ancilla qubit, we'll need $3l + 2$ qubits in total. Therefore, the unitaries will need to be of size $2^{3l+2}$, which we accomplish by tensoring $\\mathcal{G}$ with $\\mathcal{I}_{2^{2l+2}}.$"
   ]
  },
  {
   "cell_type": "code",
   "execution_count": 15,
   "metadata": {
    "collapsed": false
   },
   "outputs": [],
   "source": [
    "G = program_unitary(p, n)\n",
    "Id = np.identity(2**(2*n + 2))\n",
    "G_unitary = np.kron(G, Id)"
   ]
  },
  {
   "cell_type": "markdown",
   "metadata": {},
   "source": [
    "We can verify that this unitary creates the desired state by defining it as a new gate in PyQuil."
   ]
  },
  {
   "cell_type": "code",
   "execution_count": 16,
   "metadata": {
    "collapsed": false
   },
   "outputs": [
    {
     "name": "stdout",
     "output_type": "stream",
     "text": [
      "(0.1178392437+0j)|00000000> + (0.6972186979+0j)|00000001> + (0.6972186979+0j)|00000010> + (0.1178392437+0j)|00000011>\n"
     ]
    }
   ],
   "source": [
    "G_def = DefGate(\"G\", G_unitary)\n",
    "G = G_def.get_constructor()\n",
    "pG = Program()\n",
    "pG += G_def\n",
    "pG += G(0, 1, 2, 3, 4, 5, 6, 7)\n",
    "print(qvm.wavefunction(pG))"
   ]
  },
  {
   "cell_type": "markdown",
   "metadata": {},
   "source": [
    "The state is now $$\\mathcal{G}|0^n\\rangle = \\sum_{j=0}^{2^{n-1}}\\sqrt{p_j}|j\\rangle|0^{l+1}\\rangle|0^{l}\\rangle$$"
   ]
  },
  {
   "cell_type": "markdown",
   "metadata": {},
   "source": [
    "# Controlled rotation"
   ]
  },
  {
   "cell_type": "markdown",
   "metadata": {},
   "source": [
    "The next step is to perform the controlled rotation \n",
    "\n",
    "$$\\sum_{j=0}^{2^{n-1}}\\sqrt{p_j}|j\\rangle \\rightarrow \\sum_{j=0}^{2^{n-1}}\\sqrt{p_j}|j\\rangle\\big(\\sqrt{1-\\tilde{v}(x_j)}|0\\rangle + \\sqrt{\\tilde{v}(x_j)}|1\\rangle\\big) =: |\\chi\\rangle$$\n",
    "\n",
    "To do so, we first need to encode the result of the payoff function $\\tilde{v}(x_j)$ into the target qubits. to obtain:\n",
    "\n",
    "$$|j\\rangle|0^n\\rangle\\rightarrow|j\\rangle|\\tilde{v}(x_j)\\rangle$$"
   ]
  },
  {
   "cell_type": "markdown",
   "metadata": {},
   "source": [
    "## Payoff function circuit"
   ]
  },
  {
   "cell_type": "markdown",
   "metadata": {},
   "source": [
    "Next, we need to create our circuit to calculate the payoff function. The actual payoff function for a European option is $MAX(0, K - e^{\\sigma x+(r-\\sigma^2/2)t})$. "
   ]
  },
  {
   "cell_type": "markdown",
   "metadata": {},
   "source": [
    "Since building the payoff function requires creating gates for many more complex operations, we instead just use the adder that we created before. Consider this the simplest case where $S$ is the price of the security and we add the random variable encoded in $|j\\rangle$ to it. Now we have:\n",
    "\n",
    "$|j\\rangle|0^n\\rangle\\rightarrow|j\\rangle|\\tilde{v}(j)\\rangle$ where $\\tilde{v}(j) = j + S$.\n",
    "\n",
    "For simplicity, we'll use $S=1$. First we write a program to encode the number to be added in the qubits adjacent to the probability distribution and pad the state with an additional $l$ qubit carry register. The target register for the adder must have $l+1$ qubits to account for the possibility of overflow."
   ]
  },
  {
   "cell_type": "code",
   "execution_count": 17,
   "metadata": {
    "collapsed": false
   },
   "outputs": [
    {
     "name": "stdout",
     "output_type": "stream",
     "text": [
      "(0.1178392437+0j)|00000100> + (0.6972186979+0j)|00000101> + (0.6972186979+0j)|00000110> + (0.1178392437+0j)|00000111>\n"
     ]
    }
   ],
   "source": [
    "s = 1\n",
    "R = append_number_to_state(1, n)\n",
    "R += pad_with_zeros(n)\n",
    "p += R\n",
    "print(qvm.wavefunction(p))"
   ]
  },
  {
   "cell_type": "markdown",
   "metadata": {},
   "source": [
    "We see that the number 1 is now encoded in the 3 qubit target register. Now, we perform the addition into the target register using the full quantum adder. Since we'll need to reverse these steps at the end of the program, we keep track of them in a separate program $\\mathcal{R}$ so we can recover the unitary."
   ]
  },
  {
   "cell_type": "code",
   "execution_count": 18,
   "metadata": {
    "collapsed": false
   },
   "outputs": [],
   "source": [
    "R = quantum_adder_from_state(R, n)\n",
    "p = quantum_adder_from_state(p, n)"
   ]
  },
  {
   "cell_type": "code",
   "execution_count": 19,
   "metadata": {
    "collapsed": false
   },
   "outputs": [
    {
     "name": "stdout",
     "output_type": "stream",
     "text": [
      "(0.1178392437+0j)|00000100> + (0.6972186979+0j)|00001001> + (0.6972186979+0j)|00001110> + (0.1178392437+0j)|00010011>\n"
     ]
    }
   ],
   "source": [
    "print(qvm.wavefunction(p))"
   ]
  },
  {
   "cell_type": "markdown",
   "metadata": {},
   "source": [
    "We see that the correct result of the addition is now encoded in the 3-qubit target register, and the 2-qubit carry register has been cleared. We are now in the state $$\\mathcal{G}|0^n\\rangle = \\sum_{j=0}^{2^{n-1}}\\sqrt{p_j}|j\\rangle|\\tilde{v}(x_j)\\rangle|0^{l}\\rangle$$\n",
    "\n",
    "and the payoff function has been successfully encoded into the target register."
   ]
  },
  {
   "cell_type": "markdown",
   "metadata": {},
   "source": [
    "## Perform controlled rotation"
   ]
  },
  {
   "cell_type": "markdown",
   "metadata": {},
   "source": [
    "Now, we use the algorithm for a controlled rotation to rotate the ancilla qubit. The first step is to take $|\\tilde{v}(j)\\rangle \\rightarrow |\\sqrt{\\tilde{v}(j)})\\rangle$. We know that there exists a quantum circuit for implementing $\\sqrt{x}$ since any classical function can be mapped into a quantum operation using reversible logic and Fredkin gates. However, implementing those gates is beyond the scope of this project. Instead, we'll implement a placeholder gate defined as $\\sqrt{\\tilde{v}(j)})$ to be replaced at a later date. The gate simply performs the identity on each qubit in the target register."
   ]
  },
  {
   "cell_type": "markdown",
   "metadata": {},
   "source": [
    "Now we create the circuit to perform a controlled rotation on the ancilla qubit on page 14 of \"Quantum algorithm and circuit design solving the Poisson equation\"."
   ]
  },
  {
   "cell_type": "code",
   "execution_count": 20,
   "metadata": {
    "collapsed": false
   },
   "outputs": [],
   "source": [
    "def nbit_sqrt(n: int):\n",
    "    p = Program()\n",
    "    for q in [i + n for i in range(n + 1)]:\n",
    "        p += I(q)\n",
    "    return p"
   ]
  },
  {
   "cell_type": "code",
   "execution_count": 21,
   "metadata": {
    "collapsed": false
   },
   "outputs": [],
   "source": [
    "A = nbit_sqrt(n)\n",
    "p += A\n",
    "R += A"
   ]
  },
  {
   "cell_type": "markdown",
   "metadata": {},
   "source": [
    "### Controlled rotation"
   ]
  },
  {
   "cell_type": "markdown",
   "metadata": {},
   "source": [
    "Now we need to create the gate for rotating the ancilla qubit with the $|\\sqrt{\\tilde{v}(j)}\\rangle$ state as the control qubits:\n",
    "\n",
    "$$R|\\sqrt{\\tilde{v}(j)})\\rangle|0\\rangle \\rightarrow |\\sqrt{\\tilde{v}(j)})\\rangle\\big(\\sqrt{1-\\tilde{v}(x_j)}|0\\rangle + \\sqrt{\\tilde{v}(x_j)}|1\\rangle\\big)$$\n",
    "\n",
    "where $R$ consists of applying $l$ controlled $R_y$ rotations. "
   ]
  },
  {
   "cell_type": "code",
   "execution_count": 22,
   "metadata": {
    "collapsed": true
   },
   "outputs": [],
   "source": [
    "def controlled_rotation(control_reg: List[int], ancilla: int) -> Program:\n",
    "    p = Program()\n",
    "    for i, q in enumerate(control_reg):\n",
    "        theta = 1/2**i\n",
    "        p += RY(theta, ancilla).controlled(q)\n",
    "    return p"
   ]
  },
  {
   "cell_type": "code",
   "execution_count": 23,
   "metadata": {
    "collapsed": true
   },
   "outputs": [],
   "source": [
    "R_dagger = R.dagger()\n",
    "R += controlled_rotation(control_reg, ancilla)\n",
    "p += controlled_rotation(control_reg, ancilla)"
   ]
  },
  {
   "cell_type": "code",
   "execution_count": 24,
   "metadata": {
    "collapsed": false
   },
   "outputs": [
    {
     "name": "stdout",
     "output_type": "stream",
     "text": [
      "(0.1034136654+0j)|00000100> + (0.675543857+0j)|00001001> + (0.5101471604+0j)|00001110> + (0.1169198227+0j)|00010011> + (0.0564951429+0j)|00100100> + (0.1724946663+0j)|00101001> + (0.4752512887+0j)|00101110> + (0.0146915763+0j)|00110011>\n"
     ]
    }
   ],
   "source": [
    "print(qvm.wavefunction(p))"
   ]
  },
  {
   "cell_type": "markdown",
   "metadata": {},
   "source": [
    "We then reverse the action of the gates on control register, resulting in the desired state \n",
    "\n",
    "$$|\\chi\\rangle = \\sum_{j=0}^{2^{n-1}}\\sqrt{p_j}|j\\rangle\\big(\\sqrt{1-\\tilde{v}(x_j)}|0\\rangle + \\sqrt{\\tilde{v}(x_j)}|1\\rangle\\big)$$\n",
    "\n",
    "We also have the complete unitary $\\mathcal{R}$, which performs the rotation of the ancilla. "
   ]
  },
  {
   "cell_type": "code",
   "execution_count": 25,
   "metadata": {
    "collapsed": false
   },
   "outputs": [
    {
     "name": "stdout",
     "output_type": "stream",
     "text": [
      "(0.1034136654+0j)|00000000> + (0.675543857+0j)|00000001> + (0.5101471604+0j)|00000010> + (0.1169198227+0j)|00000011> + (0.0564951429+0j)|00100000> + (0.1724946663+0j)|00100001> + (0.4752512887+0j)|00100010> + (0.0146915763+0j)|00100011>\n"
     ]
    }
   ],
   "source": [
    "p += R_dagger\n",
    "R += R_dagger\n",
    "print(qvm.wavefunction(p))"
   ]
  },
  {
   "cell_type": "markdown",
   "metadata": {},
   "source": [
    "We can confirm that the unitary $\\mathcal{R}$ produces the desired state by applying it to the state produced by the unitary $\\mathcal{G}$ created above and confirming that it matches our final wavefunction."
   ]
  },
  {
   "cell_type": "code",
   "execution_count": 26,
   "metadata": {
    "collapsed": false
   },
   "outputs": [
    {
     "name": "stdout",
     "output_type": "stream",
     "text": [
      "Original probability distribution\n",
      "(0.1178392437+0j)|00000000> + (0.6972186979+0j)|00000001> + (0.6972186979+0j)|00000010> + (0.1178392437+0j)|00000011>\n",
      "\n",
      "\n",
      "State after rotation\n",
      "(0.1034136654+0j)|00000000> + (0.675543857+0j)|00000001> + (0.5101471604+0j)|00000010> + (0.1169198227+0j)|00000011> + (0.0564951429+0j)|00100000> + (0.1724946663+0j)|00100001> + (0.4752512887+0j)|00100010> + (0.0146915763+0j)|00100011>\n"
     ]
    }
   ],
   "source": [
    "pG = Program()\n",
    "pG += G_def\n",
    "pG += G(0, 1, 2, 3, 4, 5, 6, 7)\n",
    "print(\"Original probability distribution\")\n",
    "print(qvm.wavefunction(pG))\n",
    "pG += R\n",
    "print(\"\\n\")\n",
    "print(\"State after rotation\")\n",
    "print(qvm.wavefunction(pG))"
   ]
  },
  {
   "cell_type": "markdown",
   "metadata": {},
   "source": [
    "The form of the state in quantum memory is $|\\chi\\rangle = |j\\rangle|0^{l+1}\\rangle|\\big(\\sqrt{1-\\tilde{v}(x_j)}|0\\rangle + \\sqrt{\\tilde{v}(x_j)}|1\\rangle\\big)|0^l\\rangle$"
   ]
  },
  {
   "cell_type": "markdown",
   "metadata": {},
   "source": [
    "We can now use phase estimation to calculate the expectation value of $\\mu = \\langle\\chi|\\big(\\mathcal{I_{2^{2l+1}}}\\otimes|1\\rangle\\langle 1| \\otimes \\mathcal{I_{2^{l}}}\\big)|\\chi\\rangle$ according to (21)."
   ]
  },
  {
   "cell_type": "markdown",
   "metadata": {},
   "source": [
    "## Create Q for phase estimation"
   ]
  },
  {
   "cell_type": "markdown",
   "metadata": {},
   "source": [
    "To estimate the expectation value, we use the unitary $\\mathcal{Q}$ defined in (27)."
   ]
  },
  {
   "cell_type": "markdown",
   "metadata": {},
   "source": [
    "### Define V"
   ]
  },
  {
   "cell_type": "markdown",
   "metadata": {},
   "source": [
    "We define the unitary $\\mathcal{V} = \\mathcal{I}_{2^{3l+2}}-2\\big(\\mathcal{I_{2^{2l+1}}}\\otimes|1\\rangle\\langle 1| \\otimes \\mathcal{I_{2^{l}}}\\big)$"
   ]
  },
  {
   "cell_type": "code",
   "execution_count": 27,
   "metadata": {
    "collapsed": false
   },
   "outputs": [
    {
     "name": "stdout",
     "output_type": "stream",
     "text": [
      "[[ 1.+0.j  0.+0.j  0.+0.j ...  0.+0.j  0.+0.j  0.+0.j]\n",
      " [ 0.+0.j  1.+0.j  0.+0.j ...  0.+0.j  0.+0.j  0.+0.j]\n",
      " [ 0.+0.j  0.+0.j  1.+0.j ...  0.+0.j  0.+0.j  0.+0.j]\n",
      " ...\n",
      " [ 0.+0.j  0.+0.j  0.+0.j ... -1.+0.j  0.+0.j  0.+0.j]\n",
      " [ 0.+0.j  0.+0.j  0.+0.j ...  0.+0.j -1.+0.j  0.+0.j]\n",
      " [ 0.+0.j  0.+0.j  0.+0.j ...  0.+0.j  0.+0.j -1.+0.j]]\n"
     ]
    }
   ],
   "source": [
    "one = np.matrix([[0,1]], dtype=np.complex_)\n",
    "one_h = one.getH()\n",
    "projector = np.matmul(one_h, one)\n",
    "\n",
    "V_unitary = np.identity(2**(3*n+2)) - 2*np.kron(np.kron(np.identity(2**(2*n+1)), projector), np.identity(2**n))\n",
    "print(V_unitary)"
   ]
  },
  {
   "cell_type": "markdown",
   "metadata": {
    "collapsed": true
   },
   "source": [
    "### Define U"
   ]
  },
  {
   "cell_type": "markdown",
   "metadata": {},
   "source": [
    "To define $\\mathcal{U} = \\mathcal{F}\\mathcal{Z}\\mathcal{F}^\\dagger$, we first define $\\mathcal{Z} = \\mathcal{I}_{2^{3l+2}} - 2|0^{3n+2}\\rangle\\langle 0^{3n+2}|$"
   ]
  },
  {
   "cell_type": "code",
   "execution_count": 28,
   "metadata": {
    "collapsed": false
   },
   "outputs": [
    {
     "name": "stdout",
     "output_type": "stream",
     "text": [
      "[[-1.+0.j  0.+0.j  0.+0.j ...  0.+0.j  0.+0.j  0.+0.j]\n",
      " [ 0.+0.j  1.+0.j  0.+0.j ...  0.+0.j  0.+0.j  0.+0.j]\n",
      " [ 0.+0.j  0.+0.j  1.+0.j ...  0.+0.j  0.+0.j  0.+0.j]\n",
      " ...\n",
      " [ 0.+0.j  0.+0.j  0.+0.j ...  1.+0.j  0.+0.j  0.+0.j]\n",
      " [ 0.+0.j  0.+0.j  0.+0.j ...  0.+0.j  1.+0.j  0.+0.j]\n",
      " [ 0.+0.j  0.+0.j  0.+0.j ...  0.+0.j  0.+0.j  1.+0.j]]\n",
      "256\n"
     ]
    }
   ],
   "source": [
    "projector = np.zeros((2**(3*n+2),2**(3*n+2)), dtype=np.complex_)\n",
    "projector[0][0] = 1\n",
    "\n",
    "Z_unitary = np.identity(2**(3*n+2)) - 2*projector\n",
    "print(Z_unitary)\n",
    "print(len(Z_unitary))"
   ]
  },
  {
   "cell_type": "markdown",
   "metadata": {},
   "source": [
    "We define $\\mathcal{F}$ by extracting the program unitary from $\\mathcal{R}$ and composing with $\\mathcal{G}$ according to (20). "
   ]
  },
  {
   "cell_type": "code",
   "execution_count": 29,
   "metadata": {
    "collapsed": false
   },
   "outputs": [
    {
     "ename": "AssertionError",
     "evalue": "\nNot equal to tolerance rtol=1e-07, atol=0\n\n(shapes (1,), (2,) mismatch)\n x: array([5])\n y: array([2, 5])",
     "output_type": "error",
     "traceback": [
      "\u001b[0;31m---------------------------------------------------------------------------\u001b[0m",
      "\u001b[0;31mAssertionError\u001b[0m                            Traceback (most recent call last)",
      "\u001b[0;32m<ipython-input-29-0850a6c30241>\u001b[0m in \u001b[0;36m<module>\u001b[0;34m\u001b[0m\n\u001b[0;32m----> 1\u001b[0;31m \u001b[0mR_unitary\u001b[0m \u001b[0;34m=\u001b[0m \u001b[0mnp\u001b[0m\u001b[0;34m.\u001b[0m\u001b[0mmatrix\u001b[0m\u001b[0;34m(\u001b[0m\u001b[0mprogram_unitary\u001b[0m\u001b[0;34m(\u001b[0m\u001b[0mR\u001b[0m\u001b[0;34m,\u001b[0m \u001b[0;36m3\u001b[0m\u001b[0;34m*\u001b[0m\u001b[0mn\u001b[0m \u001b[0;34m+\u001b[0m \u001b[0;36m2\u001b[0m\u001b[0;34m)\u001b[0m\u001b[0;34m,\u001b[0m \u001b[0mdtype\u001b[0m\u001b[0;34m=\u001b[0m\u001b[0mnp\u001b[0m\u001b[0;34m.\u001b[0m\u001b[0mcomplex_\u001b[0m\u001b[0;34m)\u001b[0m\u001b[0;34m\u001b[0m\u001b[0;34m\u001b[0m\u001b[0m\n\u001b[0m\u001b[1;32m      2\u001b[0m \u001b[0mF_unitary\u001b[0m \u001b[0;34m=\u001b[0m \u001b[0mnp\u001b[0m\u001b[0;34m.\u001b[0m\u001b[0mmatmul\u001b[0m\u001b[0;34m(\u001b[0m\u001b[0mR_unitary\u001b[0m\u001b[0;34m,\u001b[0m \u001b[0mG_unitary\u001b[0m\u001b[0;34m)\u001b[0m\u001b[0;34m\u001b[0m\u001b[0;34m\u001b[0m\u001b[0m\n\u001b[1;32m      3\u001b[0m \u001b[0mF_unitary_dagger\u001b[0m \u001b[0;34m=\u001b[0m \u001b[0mF_unitary\u001b[0m\u001b[0;34m.\u001b[0m\u001b[0mgetH\u001b[0m\u001b[0;34m(\u001b[0m\u001b[0;34m)\u001b[0m\u001b[0;34m\u001b[0m\u001b[0;34m\u001b[0m\u001b[0m\n",
      "\u001b[0;32m~/anaconda3/envs/qcp/lib/python3.7/site-packages/pyquil/unitary_tools.py\u001b[0m in \u001b[0;36mprogram_unitary\u001b[0;34m(program, n_qubits)\u001b[0m\n\u001b[1;32m    292\u001b[0m     \u001b[0;32mfor\u001b[0m \u001b[0minstruction\u001b[0m \u001b[0;32min\u001b[0m \u001b[0mprogram\u001b[0m\u001b[0;34m:\u001b[0m\u001b[0;34m\u001b[0m\u001b[0;34m\u001b[0m\u001b[0m\n\u001b[1;32m    293\u001b[0m         \u001b[0;32mif\u001b[0m \u001b[0misinstance\u001b[0m\u001b[0;34m(\u001b[0m\u001b[0minstruction\u001b[0m\u001b[0;34m,\u001b[0m \u001b[0mGate\u001b[0m\u001b[0;34m)\u001b[0m\u001b[0;34m:\u001b[0m\u001b[0;34m\u001b[0m\u001b[0;34m\u001b[0m\u001b[0m\n\u001b[0;32m--> 294\u001b[0;31m             \u001b[0munitary\u001b[0m \u001b[0;34m=\u001b[0m \u001b[0mlifted_gate\u001b[0m\u001b[0;34m(\u001b[0m\u001b[0mgate\u001b[0m\u001b[0;34m=\u001b[0m\u001b[0minstruction\u001b[0m\u001b[0;34m,\u001b[0m \u001b[0mn_qubits\u001b[0m\u001b[0;34m=\u001b[0m\u001b[0mn_qubits\u001b[0m\u001b[0;34m)\u001b[0m\u001b[0;34m\u001b[0m\u001b[0;34m\u001b[0m\u001b[0m\n\u001b[0m\u001b[1;32m    295\u001b[0m             \u001b[0mumat\u001b[0m \u001b[0;34m=\u001b[0m \u001b[0munitary\u001b[0m\u001b[0;34m.\u001b[0m\u001b[0mdot\u001b[0m\u001b[0;34m(\u001b[0m\u001b[0mumat\u001b[0m\u001b[0;34m)\u001b[0m\u001b[0;34m\u001b[0m\u001b[0;34m\u001b[0m\u001b[0m\n\u001b[1;32m    296\u001b[0m         \u001b[0;32melse\u001b[0m\u001b[0;34m:\u001b[0m\u001b[0;34m\u001b[0m\u001b[0;34m\u001b[0m\u001b[0m\n",
      "\u001b[0;32m~/anaconda3/envs/qcp/lib/python3.7/site-packages/pyquil/unitary_tools.py\u001b[0m in \u001b[0;36mlifted_gate\u001b[0;34m(gate, n_qubits)\u001b[0m\n\u001b[1;32m    279\u001b[0m     return lifted_gate_matrix(matrix=matrix,\n\u001b[1;32m    280\u001b[0m                               \u001b[0mqubit_inds\u001b[0m\u001b[0;34m=\u001b[0m\u001b[0;34m[\u001b[0m\u001b[0mq\u001b[0m\u001b[0;34m.\u001b[0m\u001b[0mindex\u001b[0m \u001b[0;32mfor\u001b[0m \u001b[0mq\u001b[0m \u001b[0;32min\u001b[0m \u001b[0mgate\u001b[0m\u001b[0;34m.\u001b[0m\u001b[0mqubits\u001b[0m\u001b[0;34m]\u001b[0m\u001b[0;34m,\u001b[0m\u001b[0;34m\u001b[0m\u001b[0;34m\u001b[0m\u001b[0m\n\u001b[0;32m--> 281\u001b[0;31m                               n_qubits=n_qubits)\n\u001b[0m\u001b[1;32m    282\u001b[0m \u001b[0;34m\u001b[0m\u001b[0m\n\u001b[1;32m    283\u001b[0m \u001b[0;34m\u001b[0m\u001b[0m\n",
      "\u001b[0;32m~/anaconda3/envs/qcp/lib/python3.7/site-packages/pyquil/unitary_tools.py\u001b[0m in \u001b[0;36mlifted_gate_matrix\u001b[0;34m(matrix, qubit_inds, n_qubits)\u001b[0m\n\u001b[1;32m    254\u001b[0m         \u001b[0;31m# Python can't deal with `arr[:-0]`\u001b[0m\u001b[0;34m\u001b[0m\u001b[0;34m\u001b[0m\u001b[0;34m\u001b[0m\u001b[0m\n\u001b[1;32m    255\u001b[0m         \u001b[0mcheck\u001b[0m \u001b[0;34m=\u001b[0m \u001b[0mfinal_map\u001b[0m\u001b[0;34m[\u001b[0m\u001b[0;34m-\u001b[0m\u001b[0mgate_size\u001b[0m \u001b[0;34m-\u001b[0m \u001b[0mstart_i\u001b[0m\u001b[0;34m:\u001b[0m\u001b[0;34m]\u001b[0m\u001b[0;34m\u001b[0m\u001b[0;34m\u001b[0m\u001b[0m\n\u001b[0;32m--> 256\u001b[0;31m     \u001b[0mnp\u001b[0m\u001b[0;34m.\u001b[0m\u001b[0mtesting\u001b[0m\u001b[0;34m.\u001b[0m\u001b[0massert_allclose\u001b[0m\u001b[0;34m(\u001b[0m\u001b[0mcheck\u001b[0m\u001b[0;34m,\u001b[0m \u001b[0mqubit_inds\u001b[0m\u001b[0;34m)\u001b[0m\u001b[0;34m\u001b[0m\u001b[0;34m\u001b[0m\u001b[0m\n\u001b[0m\u001b[1;32m    257\u001b[0m \u001b[0;34m\u001b[0m\u001b[0m\n\u001b[1;32m    258\u001b[0m     \u001b[0mv_matrix\u001b[0m \u001b[0;34m=\u001b[0m \u001b[0mqubit_adjacent_lifted_gate\u001b[0m\u001b[0;34m(\u001b[0m\u001b[0mstart_i\u001b[0m\u001b[0;34m,\u001b[0m \u001b[0mmatrix\u001b[0m\u001b[0;34m,\u001b[0m \u001b[0mn_qubits\u001b[0m\u001b[0;34m)\u001b[0m\u001b[0;34m\u001b[0m\u001b[0;34m\u001b[0m\u001b[0m\n",
      "\u001b[0;32m~/anaconda3/envs/qcp/lib/python3.7/site-packages/numpy/testing/_private/utils.py\u001b[0m in \u001b[0;36massert_allclose\u001b[0;34m(actual, desired, rtol, atol, equal_nan, err_msg, verbose)\u001b[0m\n\u001b[1;32m   1491\u001b[0m     \u001b[0mheader\u001b[0m \u001b[0;34m=\u001b[0m \u001b[0;34m'Not equal to tolerance rtol=%g, atol=%g'\u001b[0m \u001b[0;34m%\u001b[0m \u001b[0;34m(\u001b[0m\u001b[0mrtol\u001b[0m\u001b[0;34m,\u001b[0m \u001b[0matol\u001b[0m\u001b[0;34m)\u001b[0m\u001b[0;34m\u001b[0m\u001b[0;34m\u001b[0m\u001b[0m\n\u001b[1;32m   1492\u001b[0m     assert_array_compare(compare, actual, desired, err_msg=str(err_msg),\n\u001b[0;32m-> 1493\u001b[0;31m                          verbose=verbose, header=header, equal_nan=equal_nan)\n\u001b[0m\u001b[1;32m   1494\u001b[0m \u001b[0;34m\u001b[0m\u001b[0m\n\u001b[1;32m   1495\u001b[0m \u001b[0;34m\u001b[0m\u001b[0m\n",
      "\u001b[0;32m~/anaconda3/envs/qcp/lib/python3.7/site-packages/numpy/testing/_private/utils.py\u001b[0m in \u001b[0;36massert_array_compare\u001b[0;34m(comparison, x, y, err_msg, verbose, header, precision, equal_nan, equal_inf)\u001b[0m\n\u001b[1;32m    750\u001b[0m                                 \u001b[0mverbose\u001b[0m\u001b[0;34m=\u001b[0m\u001b[0mverbose\u001b[0m\u001b[0;34m,\u001b[0m \u001b[0mheader\u001b[0m\u001b[0;34m=\u001b[0m\u001b[0mheader\u001b[0m\u001b[0;34m,\u001b[0m\u001b[0;34m\u001b[0m\u001b[0;34m\u001b[0m\u001b[0m\n\u001b[1;32m    751\u001b[0m                                 names=('x', 'y'), precision=precision)\n\u001b[0;32m--> 752\u001b[0;31m             \u001b[0;32mraise\u001b[0m \u001b[0mAssertionError\u001b[0m\u001b[0;34m(\u001b[0m\u001b[0mmsg\u001b[0m\u001b[0;34m)\u001b[0m\u001b[0;34m\u001b[0m\u001b[0;34m\u001b[0m\u001b[0m\n\u001b[0m\u001b[1;32m    753\u001b[0m \u001b[0;34m\u001b[0m\u001b[0m\n\u001b[1;32m    754\u001b[0m         \u001b[0mflagged\u001b[0m \u001b[0;34m=\u001b[0m \u001b[0mbool_\u001b[0m\u001b[0;34m(\u001b[0m\u001b[0;32mFalse\u001b[0m\u001b[0;34m)\u001b[0m\u001b[0;34m\u001b[0m\u001b[0;34m\u001b[0m\u001b[0m\n",
      "\u001b[0;31mAssertionError\u001b[0m: \nNot equal to tolerance rtol=1e-07, atol=0\n\n(shapes (1,), (2,) mismatch)\n x: array([5])\n y: array([2, 5])"
     ]
    }
   ],
   "source": [
    "R_unitary = np.matrix(program_unitary(R, 3*n + 2), dtype=np.complex_)\n",
    "F_unitary = np.matmul(R_unitary, G_unitary)\n",
    "F_unitary_dagger = F_unitary.getH()"
   ]
  },
  {
   "cell_type": "markdown",
   "metadata": {},
   "source": [
    "Unfortunately, this is where the fun ends. We were not able to identify the bug that prevents us from retrieving the program unitary from $\\mathcal{R}$. Nevertheless, we proceed with the rest of the algorithm as if we were able to do so. "
   ]
  },
  {
   "cell_type": "markdown",
   "metadata": {},
   "source": [
    "If we had been able to construct $\\mathcal{R}$, we could finally create $\\mathcal{U}$ through matrix multiplication."
   ]
  },
  {
   "cell_type": "code",
   "execution_count": 92,
   "metadata": {
    "collapsed": false
   },
   "outputs": [],
   "source": [
    "U_unitary = np.matmul(np.matmul(F_unitary, Z_unitary), F_unitary_dagger)"
   ]
  },
  {
   "cell_type": "markdown",
   "metadata": {},
   "source": [
    "### Define Q"
   ]
  },
  {
   "cell_type": "markdown",
   "metadata": {},
   "source": [
    "We use the transformation $\\mathcal{Q} = \\mathcal{U}\\mathcal{V}\\mathcal{U}\\mathcal{V}$ for phase estimation."
   ]
  },
  {
   "cell_type": "code",
   "execution_count": 93,
   "metadata": {
    "collapsed": true
   },
   "outputs": [],
   "source": [
    "Q_unitary = np.matmul(np.matmul(U_unitary, V_unitary), np.matmul(U_unitary, V_unitary))"
   ]
  },
  {
   "cell_type": "markdown",
   "metadata": {
    "collapsed": true
   },
   "source": [
    "## Phase estimation"
   ]
  },
  {
   "cell_type": "markdown",
   "metadata": {},
   "source": [
    "For phase estimation on $\\mathcal{Q}$, we use Grove's phase estimation module."
   ]
  },
  {
   "cell_type": "code",
   "execution_count": 98,
   "metadata": {
    "collapsed": false
   },
   "outputs": [],
   "source": [
    "precision = 8\n",
    "phase = phase_estimation(Q_unitary, precision)\n",
    "output = qvm.run(phase)\n",
    "wavefunction = qvm.wavefunction(phase)"
   ]
  },
  {
   "cell_type": "code",
   "execution_count": 99,
   "metadata": {
    "collapsed": true
   },
   "outputs": [],
   "source": [
    "def binary_frac_to_dec(b: List[int]):\n",
    "    dec = 0\n",
    "    for i, bit in enumerate(reversed(b)):\n",
    "        dec += bit/2**(i+1)\n",
    "    return dec"
   ]
  },
  {
   "cell_type": "code",
   "execution_count": 100,
   "metadata": {
    "collapsed": false
   },
   "outputs": [
    {
     "name": "stdout",
     "output_type": "stream",
     "text": [
      "0.0\n"
     ]
    }
   ],
   "source": [
    "phase_factor = binary_frac_to_dec(output[0])\n",
    "print(phase_factor)"
   ]
  },
  {
   "cell_type": "markdown",
   "metadata": {},
   "source": [
    "In this case, phase estimation returned a phase of 0, although this is not a meaningful result since the rotation gate was not implemented. Once the rotation is implemented correctly, this step should return the correct phase angle."
   ]
  },
  {
   "cell_type": "markdown",
   "metadata": {},
   "source": [
    "### Expectation value"
   ]
  },
  {
   "cell_type": "markdown",
   "metadata": {},
   "source": [
    "According to (24), $1-2\\mu = \\cos(\\theta/2)$, so using phase factor, we can estimate the expectation value."
   ]
  },
  {
   "cell_type": "code",
   "execution_count": 104,
   "metadata": {
    "collapsed": false
   },
   "outputs": [
    {
     "name": "stdout",
     "output_type": "stream",
     "text": [
      "0.0\n"
     ]
    }
   ],
   "source": [
    "theta = 2*np.pi*phase_factor\n",
    "mu = (1 - np.cos(theta/2))/2\n",
    "print(mu)"
   ]
  },
  {
   "cell_type": "markdown",
   "metadata": {},
   "source": [
    "Of course, this result is meaningless given that the payout function and rotation gates were not implemented. But those are coming!"
   ]
  },
  {
   "cell_type": "markdown",
   "metadata": {},
   "source": [
    "# Appendix"
   ]
  },
  {
   "cell_type": "markdown",
   "metadata": {},
   "source": [
    "Original carry and sum functions accept a list of QubitPlaceholders instead of indices."
   ]
  },
  {
   "cell_type": "code",
   "execution_count": 7,
   "metadata": {
    "collapsed": true
   },
   "outputs": [],
   "source": [
    "def quantum_carry(q: List[QubitPlaceholder]) -> Program:\n",
    "    p = Program()\n",
    "    p += CCNOT(q[1], q[2], q[3])\n",
    "    p += CNOT(q[1], q[2])\n",
    "    p += CCNOT(q[0], q[2], q[3])\n",
    "    return p\n",
    "\n",
    "def reverse_carry(q: List[QubitPlaceholder]) -> Program:\n",
    "    p = Program()\n",
    "    p += CCNOT(q[0], q[2], q[3])\n",
    "    p += CNOT(q[1], q[2])\n",
    "    p += CCNOT(q[1], q[2], q[3])\n",
    "    return p\n",
    "\n",
    "def quantum_sum(q: List[QubitPlaceholder]) -> Program:\n",
    "    p = Program()\n",
    "    p += CNOT(q[1], q[2])\n",
    "    p += CNOT(q[0], q[2])\n",
    "    return p"
   ]
  },
  {
   "cell_type": "markdown",
   "metadata": {},
   "source": [
    "An alternate quantum adder that takes two integers as input and returns a quantum program to perform addition."
   ]
  },
  {
   "cell_type": "code",
   "execution_count": 102,
   "metadata": {
    "collapsed": false
   },
   "outputs": [],
   "source": [
    "#implement quantum adder\n",
    "\n",
    "def quantum_adder_int(a: int, b: int, n: int):\n",
    "    assert a < 2**n, \"a uses too many bits\"\n",
    "    assert b < 2**n, \"b uses too many bits\"\n",
    "    \n",
    "    state_a = QubitPlaceholder.register(n)\n",
    "    state_b = QubitPlaceholder.register(n + 1)\n",
    "    state_c = QubitPlaceholder.register(n)\n",
    "    \n",
    "    #print(\"Length of state b is {}\".format(len(state_b)))\n",
    "    #print(\"Length of state b is {}\".format(len(state_b)))\n",
    "    \n",
    "    p = int_to_state(a, state_a)\n",
    "    p += int_to_state(b, state_b)\n",
    "    p += int_to_state(0, state_c) #assign all c qubits to 0 to preserve indexing \n",
    "    \n",
    "    for i in range(n):\n",
    "        if i == n-1: \n",
    "            p += quantum_carry([state_c[i], state_a[i], state_b[i], state_b[i+1]])\n",
    "        else:\n",
    "            p += quantum_carry([state_c[i], state_a[i], state_b[i], state_c[i+1]])\n",
    "            \n",
    "    #print(\"First round of carries finished\\n\")\n",
    "    \n",
    "    p += CNOT(state_a[n-1], state_b[n-1])\n",
    "    p += quantum_sum([state_c[n-1], state_a[n-1], state_b[n-1]])\n",
    "    \n",
    "    #print(\"Begin reversal\\n\")\n",
    "    \n",
    "    for i in reversed(range(n-1)):\n",
    "        p += reverse_carry([state_c[i], state_a[i], state_b[i], state_c[i+1]])\n",
    "        p += quantum_sum([state_c[i], state_a[i], state_b[i]])\n",
    "    \n",
    "    return address_qubits(p)\n"
   ]
  },
  {
   "cell_type": "markdown",
   "metadata": {},
   "source": [
    "Helper functions for checking accuracy of the quantum adder. "
   ]
  },
  {
   "cell_type": "code",
   "execution_count": 103,
   "metadata": {
    "collapsed": false
   },
   "outputs": [],
   "source": [
    "def check_adder(a: int, b: int, n: int): \n",
    "    result = a+b\n",
    "    p = Program()\n",
    "    p += quantum_adder_int(a, b, n)\n",
    "    print(qvm.wavefunction(p))\n",
    "    ro = p.declare('ro', 'BIT', 2*n+1)\n",
    "    for i in range(2*n+1):\n",
    "        p += MEASURE(i+n, ro[i])\n",
    "    binary = qvm.run(p)\n",
    "    binary = [str(i) for i in reversed(binary[0])]\n",
    "    binary = ''.join(binary)\n",
    "    decimal_result = int(binary, 2)\n",
    "    return decimal_result\n",
    "        \n",
    "def check_all_combinations_int(n: int):\n",
    "    for i in range(2**n):\n",
    "        for j in range(2**n):\n",
    "            result = check_adder(i, j, n)\n",
    "            output = i + j\n",
    "            if result == output:\n",
    "                print(\"{} + {} = {}. Success!\".format(i, j, result))\n",
    "            else: \n",
    "                print(\"{} + {} != {}. Failure!\".format(i, j, result))\n",
    "            "
   ]
  }
 ],
 "metadata": {
  "kernelspec": {
   "display_name": "Python [conda env:qcp]",
   "language": "python",
   "name": "conda-env-qcp-py"
  },
  "language_info": {
   "codemirror_mode": {
    "name": "ipython",
    "version": 3
   },
   "file_extension": ".py",
   "mimetype": "text/x-python",
   "name": "python",
   "nbconvert_exporter": "python",
   "pygments_lexer": "ipython3",
   "version": "3.7.3"
  }
 },
 "nbformat": 4,
 "nbformat_minor": 2
}
